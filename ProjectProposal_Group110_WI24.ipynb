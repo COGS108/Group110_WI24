{
 "cells": [
  {
   "cell_type": "markdown",
   "metadata": {},
   "source": [
    "# COGS 108 - Project Proposal:"
   ]
  },
  {
   "cell_type": "markdown",
   "metadata": {},
   "source": [
    "# Names\n",
    "\n",
    "Sophia Ashraf <br>\n",
    "Dylan Oquendo <br>\n",
    "Karun Mokha <br>\n",
    "Jake Kondo <br>\n",
    "Ekrem Ersoz"
   ]
  },
  {
   "cell_type": "markdown",
   "metadata": {},
   "source": [
    "# Research Question"
   ]
  },
  {
   "cell_type": "markdown",
   "metadata": {},
   "source": [
    "Did mental health during Covid 19 have an effect on pregnancy outcomes?\n",
    "\n",
    "**Sub Questions:**\n",
    "Normal time data (overall population):\n",
    "Analyze pregnancy outcomes data from periods before the COVID-19 pandemic as a baseline. This will help establish what \"normal\" outcomes look like, against which pandemic-era outcomes can be compared.\n",
    "Was it related to mental health:\n",
    "Investigate whether changes in pregnancy outcomes during the COVID-19 pandemic correlate with reported changes in mental health statistics. This involves collecting data on mental health issues among pregnant individuals during the pandemic and comparing these with pregnancy outcomes.\n",
    "How did these relate to large events (e.g., vaccines)? Did that change anything…:\n",
    "Examine the timeline of major Covid-19-related events, such as lockdowns, infection waves, and the introduction of vaccines, and analyze their impact on mental health and pregnancy outcomes. This could involve comparing pregnancy outcomes and mental health data before and after such events to identify any significant changes or trends."
   ]
  },
  {
   "cell_type": "markdown",
   "metadata": {},
   "source": [
    "## Background and Prior Work"
   ]
  },
  {
   "cell_type": "markdown",
   "metadata": {},
   "source": [
    "**BACKGROUND & PRIOR WORK:** This section will present the background and context of your topic and question in a few paragraphs. Include a general introduction to your topic and then describe what information you currently know about the topic after doing your initial research. Include references to other projects who have asked similar questions or approached similar problems. Explain what others have learned in their projects.\n",
    "\n",
    "Find some relevant prior work, and reference those sources, summarizing what each did and what they learned. Even if you think you have a totally novel question, find the most similar prior work that you can and discuss how it relates to your project.\n",
    "\n",
    "References can be research publications, but they need not be. Blogs, GitHub repositories, company websites, etc., are all viable references if they are relevant to your project. It must be clear which information comes from which references. (2-3 paragraphs, including at least 2 references)\n",
    "\n",
    "The impact that COVID-19 had on mental health around the globe has been acknowledged and studied by scientific researchers to examine its effects, particularly on specific “at risk” populations such as pregnant and postpartum women. In fact the World Health Organization (WHO) estimates anxiety and depression prevalence increased 25% globally during the height of the pandemic. A systematic review and meta-analysis conducted by Gayathri Delanerolle, department of Health Care Science at Oxford, titled “The prevalence of mental ill-health in women during pregnancy and after childbirth during the COVID-19 pandemic” found a significant increase in negative mental health outcomes specifically in women who were pregnant and postpartum . They quantified depression, anxiety, and stress, and suggested that the increase of these conditions highlight a need for mental health resources amongst maternal healthcare services, especially during a pandemic as impactful as COVID-19. This research provides a strong empirical context for our group illustrating the vulnerability of pregnant women to negative mental health outcomes during the pandemic. \n",
    "\n",
    "For our project, we also want to contextualize maternal stress during pregnancy at times not during a pandemic so we have a measure to compare. An article titled, “Prenatal developmental origins of behavior and mental health: The influence of maternal stress in pregnancy” Van den Bergh et al’s did a review on current research to find that stress during pregnancy cna have long lasting behavioral and mental health affects later in life. This includes affecting fetal development in a variety of ways including hormonal changes and affecting brain development. Overall the article highlights how critical the pregnancy period is for mothers, and how during extra stressful times there could be profound long lasting effects on child development. \n",
    "\n",
    "These two studies serve as a foundation for our project as context for stress, and mental health in pregnant and postpartum women with a meta-analysis on mental health during the pandemic, and a systematic review of all current research on maternal stress and child development. Delanerolle et al. 's article found increase in mental health issues amongst pregnant and postpartum women during the pandemic, while Van den Bergh et al’s comprehensive review gave us insight into the origins of prenatal mental health by highlighting cognitive and neurodevelopment dysfunction. . These findings highlight the importance of our research question. Our goal is to examine the relationship between mental health during COVID-19 and pregnancy outcomes, our project aims to contribute to the prior research and understandings of these interactions and serve to suppose maternal well-being during pandemic eras currently and in the future. \n",
    "\n",
    "https://www.ncbi.nlm.nih.gov/pmc/articles/PMC9883834/\n",
    "\n",
    "https://pubmed.ncbi.nlm.nih.gov/28757456/\n"
   ]
  },
  {
   "cell_type": "markdown",
   "metadata": {},
   "source": [
    "# Hypothesis\n"
   ]
  },
  {
   "cell_type": "markdown",
   "metadata": {},
   "source": [
    "Increased stress and mental health challenges faced by pregnant individuals during the Covid-19 pandemic negatively impacted pregnancy outcomes. We arrived at our prediction by considering the radical effect of the Covid-19 pandemic on an individual’s emotional and mental well being. We also paired this with the already existing stress that a woman faces throughout her pregnancy, and came up with our hypothesis.     "
   ]
  },
  {
   "cell_type": "markdown",
   "metadata": {},
   "source": [
    "# Data"
   ]
  },
  {
   "cell_type": "markdown",
   "metadata": {},
   "source": [
    "Variables: Mental health indicators (e.g., levels of stress, anxiety, depression), pregnancy outcomes (e.g., gestational age at birth, birth weight, any complications), Covid-19 impact metrics (e.g., infection status, lockdown impact),  major pandemic events timelines (e.g., start of lockdowns, vaccine rollouts).\n",
    "\n",
    "Population: Pregnant individuals during the COVID-19 pandemic, with a comparison group from before the pandemic as a baseline.\n",
    "\n",
    "Time Period: Data should span from before the COVID-19 pandemic (as a baseline) and continue through the pandemic, ideally with timestamps to align with major pandemic events for dynamic analysis.\n",
    "\n",
    "https://www.kaggle.com/datasets/yeganehbavafa/mental-health-in-the-pregnancy-during-the-covid-19/data:\n",
    "This dataset from the Pregnancy during the COVID-19 Pandemic (PdP) project includes variables such as maternal age, household income, maternal education levels, Edinburgh Postnatal Depression Scale (EPDS) scores, PROMIS Anxiety scores, gestational age at birth, delivery date, birth length and weight, delivery mode, NICU stay, survey language, and perceived threat levels to life and unborn baby due to COVID-19. These variables offer comprehensive insights into the socio-economic, psychological, and health-related aspects of pregnant individuals' experiences during the pandemic, allowing for a multifaceted analysis of the impact of COVID-19 on pregnancy outcomes.\n",
    "\n"
   ]
  },
  {
   "cell_type": "markdown",
   "metadata": {},
   "source": [
    "# Ethics & Privacy"
   ]
  },
  {
   "cell_type": "markdown",
   "metadata": {},
   "source": [
    "The dataset from the Pregnancy during the COVID-19 Pandemic (PdP) project might exhibit biases such as geographic concentration (limited to Canada, possibly not reflecting experiences in other healthcare systems or cultures), socio-economic and educational disparities (respondents may skew towards certain income or education levels based on survey reach and accessibility), and potential language barriers (despite survey language options, nuances in understanding or expression may affect responses). For the variables which we used such as Edinburgh Postnatal Depression Scale and the PROMIS Anxiety score those are both established statistical measurements in research which have already gotten consent from participants to not only partake in the research but to give permission to publish the findings, so though we are looking at their numerical measurements we’ve ensured the ethics and privacy of those numbers. To address these, analyzing demographic data against wider population statistics and considering the socio-cultural context in interpretations will be important. The only issues about privacy that could come up would be mental health information of the individuals. "
   ]
  },
  {
   "cell_type": "markdown",
   "metadata": {},
   "source": [
    "# Team Expectations "
   ]
  },
  {
   "cell_type": "markdown",
   "metadata": {},
   "source": [
    "* It's agreed that there should be equal effort from all members \n",
    "* The team plans to meet once a week in person for discussions and updates on the project's progress. \n"
   ]
  },
  {
   "cell_type": "markdown",
   "metadata": {},
   "source": [
    "# Project Timeline Proposal"
   ]
  },
  {
   "cell_type": "markdown",
   "metadata": {},
   "source": [
    "February 23rd - attend OH to get approval for new project idea <br>\n",
    "February 25th - Complete Checkpoint #1, Rewriting the project proposal, discord call as a group <br>\n",
    "February 26th - March 1st: Have team meeting(s) in person to work on the project, attend OH for any questions about the data <br>\n",
    "March 10th - Complete Checkpoint #2 <br>\n",
    "March 11th - March 15th: Have a team meeting in person to finalize the project, attend OH if needed <br>\n",
    "March 15th - Complete the Final Project Report, Have a meeting to review the report <br>\n",
    "March 20th - Submit all project work and secure the A 😎 <br>"
   ]
  }
 ],
 "metadata": {
  "kernelspec": {
   "display_name": "Python 3 (ipykernel)",
   "language": "python",
   "name": "python3"
  },
  "language_info": {
   "codemirror_mode": {
    "name": "ipython",
    "version": 3
   },
   "file_extension": ".py",
   "mimetype": "text/x-python",
   "name": "python",
   "nbconvert_exporter": "python",
   "pygments_lexer": "ipython3",
   "version": "3.9.5"
  }
 },
 "nbformat": 4,
 "nbformat_minor": 2
}
